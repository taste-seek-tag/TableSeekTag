{
 "cells": [
  {
   "cell_type": "code",
   "execution_count": 1,
   "id": "95dbdffb-fe6c-4d1e-b014-3ca2ec3f122b",
   "metadata": {},
   "outputs": [],
   "source": [
    "from imutils.paths import list_files\n",
    "import pandas as pd\n",
    "import os, re"
   ]
  },
  {
   "cell_type": "code",
   "execution_count": 58,
   "id": "ecec82fb-07e4-4584-b20f-0fe793710beb",
   "metadata": {},
   "outputs": [],
   "source": [
    "ROOT_PATH    = '/home/jovyan/project/MidnightTable'\n",
    "DATASET_PATH = f'{ROOT_PATH}/TableSeekTag/src/data/zomato' "
   ]
  },
  {
   "cell_type": "markdown",
   "id": "9b3b6aab-f0f0-46a7-8f05-4b3a1dce18f4",
   "metadata": {},
   "source": [
    "- 스크래핑 한 데이터에 필요없거나 길이가 너무 긴 데이터들이 존재하여 걸러주었습니다 e.g) \\n\n",
    "- 스크래핑 된 데이터의 23번째 줄부터 데이터가 고정되어 있지 않아, 일부 전처리 과정을 거쳤습니다.\n",
    "- 아래의 두 이미지를 비교해보면 22번째 줄 까지는 고정된 내용임을 알 수 있지만 왼쪽 이미지의 23번째 줄은   \n",
    "  cuisine이 있는 반면, 오른쪽 이미지의 23번째 줄은 알 수 없는 숫자가 들어가 있음을 보입니다.\n",
    "  \n",
    "<div class='row'>\n",
    "    <div style=\"width:40%; float:left;\">\n",
    "        <img src='img/zomato/go-jeong1.png'  alt='이미지 없음..'></img>\n",
    "    </div>\n",
    "    <div style=\"width:40%; float:left;\">\n",
    "        <img src='img/zomato/go-jeong2.png' alt='이미지 없음..'></img>\n",
    "    </div>\n",
    "</div>  "
   ]
  },
  {
   "cell_type": "code",
   "execution_count": 69,
   "id": "4b4b3934-97df-4a52-bacf-6b46e1c10abe",
   "metadata": {},
   "outputs": [],
   "source": [
    "## 멋져보이고 싶어서 만든 굳이 함수로 안 만들었어도 되는 함수들..\n",
    "remove_ent = lambda text: text.replace('\\n', '')\n",
    "read_text  = lambda text_file: open(text_file, 'r').readlines() "
   ]
  },
  {
   "cell_type": "code",
   "execution_count": 72,
   "id": "83531fce-68f5-4e75-bd2e-855ea3367bce",
   "metadata": {},
   "outputs": [],
   "source": [
    "text_files = sorted(list_files(f'{DATASET_PATH}/scraping_datas/'))\n",
    "csv        = pd.read_csv(f'{DATASET_PATH}/HyderabadResturants.csv')"
   ]
  },
  {
   "cell_type": "code",
   "execution_count": 76,
   "id": "b4a8dde3-71a7-4dcc-8033-e97758e0b56a",
   "metadata": {},
   "outputs": [
    {
     "data": {
      "text/html": [
       "<div>\n",
       "<style scoped>\n",
       "    .dataframe tbody tr th:only-of-type {\n",
       "        vertical-align: middle;\n",
       "    }\n",
       "\n",
       "    .dataframe tbody tr th {\n",
       "        vertical-align: top;\n",
       "    }\n",
       "\n",
       "    .dataframe thead th {\n",
       "        text-align: right;\n",
       "    }\n",
       "</style>\n",
       "<table border=\"1\" class=\"dataframe\">\n",
       "  <thead>\n",
       "    <tr style=\"text-align: right;\">\n",
       "      <th></th>\n",
       "      <th>names</th>\n",
       "      <th>cuisine</th>\n",
       "    </tr>\n",
       "  </thead>\n",
       "  <tbody>\n",
       "    <tr>\n",
       "      <th>0</th>\n",
       "      <td>Sahara Bakers</td>\n",
       "      <td>Chinese, Bakery, Sichuan, Pizza, Burger</td>\n",
       "    </tr>\n",
       "    <tr>\n",
       "      <th>1</th>\n",
       "      <td>KFC</td>\n",
       "      <td>Burger, Fast Food, Biryani, Desserts, Beverages</td>\n",
       "    </tr>\n",
       "    <tr>\n",
       "      <th>2</th>\n",
       "      <td>Subbaiah Gari Hotel</td>\n",
       "      <td>South Indian, Andhra, Mithai</td>\n",
       "    </tr>\n",
       "    <tr>\n",
       "      <th>3</th>\n",
       "      <td>Paradise Biryani</td>\n",
       "      <td>Biryani, Kebab, Desserts, Beverages</td>\n",
       "    </tr>\n",
       "    <tr>\n",
       "      <th>4</th>\n",
       "      <td>Pista House Bakery</td>\n",
       "      <td>Fast Food, Sandwich, Pizza, Burger, Wraps, Rol...</td>\n",
       "    </tr>\n",
       "    <tr>\n",
       "      <th>...</th>\n",
       "      <td>...</td>\n",
       "      <td>...</td>\n",
       "    </tr>\n",
       "    <tr>\n",
       "      <th>652</th>\n",
       "      <td>Dr Cakes</td>\n",
       "      <td>Bakery, Desserts</td>\n",
       "    </tr>\n",
       "    <tr>\n",
       "      <th>653</th>\n",
       "      <td>Shahi Naan</td>\n",
       "      <td>North Indian</td>\n",
       "    </tr>\n",
       "    <tr>\n",
       "      <th>654</th>\n",
       "      <td>Combosthalam By Phulkaas</td>\n",
       "      <td>North Indian, Chinese</td>\n",
       "    </tr>\n",
       "    <tr>\n",
       "      <th>655</th>\n",
       "      <td>Pachadis By Phulkaas</td>\n",
       "      <td>South Indian</td>\n",
       "    </tr>\n",
       "    <tr>\n",
       "      <th>656</th>\n",
       "      <td>Tasim</td>\n",
       "      <td>Chinese, Momos</td>\n",
       "    </tr>\n",
       "  </tbody>\n",
       "</table>\n",
       "<p>657 rows × 2 columns</p>\n",
       "</div>"
      ],
      "text/plain": [
       "                        names  \\\n",
       "0               Sahara Bakers   \n",
       "1                         KFC   \n",
       "2         Subbaiah Gari Hotel   \n",
       "3            Paradise Biryani   \n",
       "4          Pista House Bakery   \n",
       "..                        ...   \n",
       "652                  Dr Cakes   \n",
       "653                Shahi Naan   \n",
       "654  Combosthalam By Phulkaas   \n",
       "655      Pachadis By Phulkaas   \n",
       "656                     Tasim   \n",
       "\n",
       "                                               cuisine  \n",
       "0              Chinese, Bakery, Sichuan, Pizza, Burger  \n",
       "1      Burger, Fast Food, Biryani, Desserts, Beverages  \n",
       "2                         South Indian, Andhra, Mithai  \n",
       "3                  Biryani, Kebab, Desserts, Beverages  \n",
       "4    Fast Food, Sandwich, Pizza, Burger, Wraps, Rol...  \n",
       "..                                                 ...  \n",
       "652                                   Bakery, Desserts  \n",
       "653                                       North Indian  \n",
       "654                              North Indian, Chinese  \n",
       "655                                       South Indian  \n",
       "656                                     Chinese, Momos  \n",
       "\n",
       "[657 rows x 2 columns]"
      ]
     },
     "execution_count": 76,
     "metadata": {},
     "output_type": "execute_result"
    }
   ],
   "source": [
    "csv[['names', 'cuisine']]"
   ]
  },
  {
   "cell_type": "code",
   "execution_count": null,
   "id": "5695d183-699e-4935-bbcd-f885ea982693",
   "metadata": {},
   "outputs": [],
   "source": []
  }
 ],
 "metadata": {
  "kernelspec": {
   "display_name": "bio",
   "language": "python",
   "name": "bio"
  },
  "language_info": {
   "codemirror_mode": {
    "name": "ipython",
    "version": 3
   },
   "file_extension": ".py",
   "mimetype": "text/x-python",
   "name": "python",
   "nbconvert_exporter": "python",
   "pygments_lexer": "ipython3",
   "version": "3.9.12"
  }
 },
 "nbformat": 4,
 "nbformat_minor": 5
}
