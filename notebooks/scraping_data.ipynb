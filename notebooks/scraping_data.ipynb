{
 "cells": [
  {
   "cell_type": "code",
   "execution_count": 1,
   "id": "95dbdffb-fe6c-4d1e-b014-3ca2ec3f122b",
   "metadata": {},
   "outputs": [],
   "source": [
    "from imutils.paths import list_files\n",
    "import pandas as pd\n",
    "import os, re"
   ]
  },
  {
   "cell_type": "code",
   "execution_count": 2,
   "id": "ecec82fb-07e4-4584-b20f-0fe793710beb",
   "metadata": {},
   "outputs": [],
   "source": [
    "ROOT_PATH    = '/home/jovyan/project/MidnightTable'\n",
    "DATASET_PATH = f'{ROOT_PATH}/TableSeekTag/src/data/zomato' "
   ]
  },
  {
   "cell_type": "markdown",
   "id": "9b3b6aab-f0f0-46a7-8f05-4b3a1dce18f4",
   "metadata": {},
   "source": [
    "- 메뉴 리스트가 없는 식당에서는 It's empty here!\\n 이라는 문구가 있어  \n",
    "  해당 문구가 있는 식당 열을 csv 파일에서도 제거하였습니다."
   ]
  },
  {
   "cell_type": "code",
   "execution_count": 3,
   "id": "4b4b3934-97df-4a52-bacf-6b46e1c10abe",
   "metadata": {},
   "outputs": [],
   "source": [
    "## 멋져보이고 싶어서 만든 굳이 함수로 안 만들었어도 되는 함수들..\n",
    "remove_ent    = lambda text: text.replace('\\n', '')\n",
    "read_text     = lambda text_file: open(text_file, 'r').readlines() \n",
    "length_filter = lambda text, min = 5, max = 70: all([len(text) > min, len(text) <= max])"
   ]
  },
  {
   "cell_type": "code",
   "execution_count": 4,
   "id": "83531fce-68f5-4e75-bd2e-855ea3367bce",
   "metadata": {},
   "outputs": [
    {
     "data": {
      "text/plain": [
       "657"
      ]
     },
     "execution_count": 4,
     "metadata": {},
     "output_type": "execute_result"
    }
   ],
   "source": [
    "text_files = sorted(list_files(f'{DATASET_PATH}/scraping_datas/'))\n",
    "csv        = pd.read_csv(f'{DATASET_PATH}/HyderabadResturants.csv')\n",
    "\n",
    "## 필요한 정보가 식당 이름, 요리 카테고리여서 원본 DataFrame에서 names, cuisine 칼럼만 남김\n",
    "csv        = csv[['names', 'cuisine']]\n",
    "len(csv)"
   ]
  },
  {
   "cell_type": "code",
   "execution_count": 5,
   "id": "91bcbd34-cb81-4a71-9a1a-ec34546a5202",
   "metadata": {},
   "outputs": [],
   "source": [
    "int_pattern     = re.compile('₹[0-9]*')\n",
    "float_pattern   = re.compile('₹[0-9]*.[0-9]*')\n",
    "\n",
    "code_pattern    = re.compile('use code [a-zA-Z]*')\n",
    "s_bracket_pattern = re.compile('\\[[^]]*\\]')\n",
    "bracket_pattern = re.compile('\\([^)]*\\)')\n",
    "\n",
    "kg_pattern   = re.compile('[0-9]* kg')\n",
    "gram_pattern = re.compile('[0-9]* gm')"
   ]
  },
  {
   "cell_type": "code",
   "execution_count": 6,
   "id": "b4a8dde3-71a7-4dcc-8033-e97758e0b56a",
   "metadata": {},
   "outputs": [],
   "source": [
    "## 텍스트 파일들 불러오기\n",
    "texts        = [read_text(text_file) for text_file in text_files]\n",
    "\n",
    "## 메뉴 정보가 없는 식당 정보 인덱스 저장용\n",
    "no_menu_list, restaurants = [], []\n",
    "\n",
    "filters = (\n",
    "            'veg only', 'recommended', \n",
    "            'use code tasty', 'newly launched',\n",
    "            \"today's exclusive dishes\",\n",
    "            'bestseller', 'not eligible for coupons',\n",
    "            'download the app', \"[chef's special]\"\n",
    "        )"
   ]
  },
  {
   "cell_type": "code",
   "execution_count": 7,
   "id": "08cfbcea-c1f6-4da1-b94e-5de0f95ed433",
   "metadata": {},
   "outputs": [],
   "source": [
    "for odx, text in enumerate(texts, 1): \n",
    "    ## 메뉴가 없는 녀석들 제거용\n",
    "    if \"It's empty here!\\n\" in text: \n",
    "        filter_char = \"It's empty here!\\n\"\n",
    "        no_menu_list.append(odx)\n",
    "    \n",
    "    total_menus = []\n",
    "    # try:\n",
    "    ## 가격정보 (₹)가 담겨있는 녀석들의 인덱스 탐색\n",
    "    prices = []\n",
    "    for idx, t in enumerate(text):\n",
    "        condition = [\n",
    "                        float_pattern.fullmatch(remove_ent(t)) != None,\n",
    "                        int_pattern.fullmatch(remove_ent(t)) != None\n",
    "                    ]\n",
    "        if any(condition): prices.append(idx)\n",
    "            \n",
    "    if not odx in no_menu_list:\n",
    "        ## 가격 정보가 있는 첫 인덱스 (가격정보로 부터 2 줄 앞에 메뉴정보가 있는데, 넉넉히 5줄 앞부터로 시작)\n",
    "        ## 부터 마지막 가격정보 인덱스까지만 가져옴.\n",
    "        try: \n",
    "            menus = text[prices[0] - 5: prices[-1] + 1]\n",
    "            ## 5개 중에 메뉴 하나 정도는 있겠지 탐색법,,\n",
    "            for idx in range(0, len(menus), 5):\n",
    "                menu = menus[idx: idx + 5]\n",
    "\n",
    "                ## 필요없는 데이터 필터링\n",
    "                menu = [m.lower() for m in menu if not m.isupper()]\n",
    "\n",
    "                menu = [m.lower() for m in menu if length_filter(m, max = 40)]\n",
    "                menu = [m for m in menu if not '₹' in m]\n",
    "                menu = [remove_ent(m) for m in menu if not 'votes' in m]\n",
    "                menu = [m for m in menu if bracket_pattern.fullmatch(m) == None]\n",
    "                menu = [m for m in menu if code_pattern.fullmatch(m) == None]\n",
    "                menu = [m for m in menu if m not in filters]\n",
    "\n",
    "                menu = [bracket_pattern.sub('', m) for m in menu]\n",
    "                menu = [s_bracket_pattern.sub('', m) for m in menu]\n",
    "                menu = [kg_pattern.sub('', m) for m in menu]\n",
    "                menu = [gram_pattern.sub('', m) for m in menu]\n",
    "\n",
    "                total_menus += menu\n",
    "            restaurants.append(set(total_menus))\n",
    "        \n",
    "        ## 가격정보가 없는 녀석들,,,\n",
    "        except: no_menu_list.append(odx)\n",
    "    else: pass"
   ]
  },
  {
   "cell_type": "code",
   "execution_count": 8,
   "id": "546d3104-e227-4b7c-8b33-36fb9813c51e",
   "metadata": {},
   "outputs": [
    {
     "data": {
      "text/plain": [
       "620"
      ]
     },
     "execution_count": 8,
     "metadata": {},
     "output_type": "execute_result"
    }
   ],
   "source": [
    "## csv 파일에서 메뉴 정보가 없는 식당 정보들 삭제\n",
    "csv = csv.drop(no_menu_list, axis = 0)\n",
    "len(csv)"
   ]
  },
  {
   "cell_type": "code",
   "execution_count": 9,
   "id": "d7dbf35e-f123-4649-953f-ca3376ac7861",
   "metadata": {},
   "outputs": [
    {
     "data": {
      "text/html": [
       "<div>\n",
       "<style scoped>\n",
       "    .dataframe tbody tr th:only-of-type {\n",
       "        vertical-align: middle;\n",
       "    }\n",
       "\n",
       "    .dataframe tbody tr th {\n",
       "        vertical-align: top;\n",
       "    }\n",
       "\n",
       "    .dataframe thead th {\n",
       "        text-align: right;\n",
       "    }\n",
       "</style>\n",
       "<table border=\"1\" class=\"dataframe\">\n",
       "  <thead>\n",
       "    <tr style=\"text-align: right;\">\n",
       "      <th></th>\n",
       "      <th>names</th>\n",
       "      <th>cuisine</th>\n",
       "      <th>menus</th>\n",
       "    </tr>\n",
       "  </thead>\n",
       "  <tbody>\n",
       "    <tr>\n",
       "      <th>0</th>\n",
       "      <td>Sahara Bakers</td>\n",
       "      <td>Chinese, Bakery, Sichuan, Pizza, Burger</td>\n",
       "      <td>{chicken capsicum pizza, paneer chilly, red ve...</td>\n",
       "    </tr>\n",
       "    <tr>\n",
       "      <th>1</th>\n",
       "      <td>KFC</td>\n",
       "      <td>Burger, Fast Food, Biryani, Desserts, Beverages</td>\n",
       "      <td>{hot &amp; crispy chicken -6pc, 6pc hot &amp; crispy w...</td>\n",
       "    </tr>\n",
       "    <tr>\n",
       "      <th>2</th>\n",
       "      <td>Subbaiah Gari Hotel</td>\n",
       "      <td>South Indian, Andhra, Mithai</td>\n",
       "      <td>{pongal, allam pickle , thumsup 750ml, spl hal...</td>\n",
       "    </tr>\n",
       "    <tr>\n",
       "      <th>3</th>\n",
       "      <td>Paradise Biryani</td>\n",
       "      <td>Biryani, Kebab, Desserts, Beverages</td>\n",
       "      <td>{kiwi blast mocktail, chocolate cake , mango s...</td>\n",
       "    </tr>\n",
       "    <tr>\n",
       "      <th>5</th>\n",
       "      <td>Shah Ghouse Hotel &amp; Restaurant</td>\n",
       "      <td>North Indian, Chinese, Mughlai, Mandi, Sichuan...</td>\n",
       "      <td>{zabaan, irani tea kettle , bheja masala, tand...</td>\n",
       "    </tr>\n",
       "  </tbody>\n",
       "</table>\n",
       "</div>"
      ],
      "text/plain": [
       "                            names  \\\n",
       "0                   Sahara Bakers   \n",
       "1                             KFC   \n",
       "2             Subbaiah Gari Hotel   \n",
       "3                Paradise Biryani   \n",
       "5  Shah Ghouse Hotel & Restaurant   \n",
       "\n",
       "                                             cuisine  \\\n",
       "0            Chinese, Bakery, Sichuan, Pizza, Burger   \n",
       "1    Burger, Fast Food, Biryani, Desserts, Beverages   \n",
       "2                       South Indian, Andhra, Mithai   \n",
       "3                Biryani, Kebab, Desserts, Beverages   \n",
       "5  North Indian, Chinese, Mughlai, Mandi, Sichuan...   \n",
       "\n",
       "                                               menus  \n",
       "0  {chicken capsicum pizza, paneer chilly, red ve...  \n",
       "1  {hot & crispy chicken -6pc, 6pc hot & crispy w...  \n",
       "2  {pongal, allam pickle , thumsup 750ml, spl hal...  \n",
       "3  {kiwi blast mocktail, chocolate cake , mango s...  \n",
       "5  {zabaan, irani tea kettle , bheja masala, tand...  "
      ]
     },
     "execution_count": 9,
     "metadata": {},
     "output_type": "execute_result"
    }
   ],
   "source": [
    "csv['menus'] = restaurants\n",
    "csv.head()"
   ]
  },
  {
   "cell_type": "code",
   "execution_count": 10,
   "id": "8e54d494-fedc-4158-9582-0244ccf016a6",
   "metadata": {},
   "outputs": [],
   "source": [
    "csv.to_csv(f'../../TableSeekTag-private-/data/zomato.csv')"
   ]
  }
 ],
 "metadata": {
  "kernelspec": {
   "display_name": "bio",
   "language": "python",
   "name": "bio"
  },
  "language_info": {
   "codemirror_mode": {
    "name": "ipython",
    "version": 3
   },
   "file_extension": ".py",
   "mimetype": "text/x-python",
   "name": "python",
   "nbconvert_exporter": "python",
   "pygments_lexer": "ipython3",
   "version": "3.9.12"
  }
 },
 "nbformat": 4,
 "nbformat_minor": 5
}
